{
 "cells": [
  {
   "cell_type": "code",
   "execution_count": 108,
   "id": "6d1c6198",
   "metadata": {},
   "outputs": [],
   "source": [
    "import pandas as pd\n",
    "import numpy as np\n",
    "from os import listdir\n",
    "from os.path import isfile, join"
   ]
  },
  {
   "cell_type": "code",
   "execution_count": 115,
   "id": "8cb955cc",
   "metadata": {},
   "outputs": [],
   "source": [
    "users = ['p00','p01','p02','p03','p04']"
   ]
  },
  {
   "attachments": {},
   "cell_type": "markdown",
   "id": "46a6b6ad",
   "metadata": {},
   "source": [
    "#**Read raw data and tags information from E4**"
   ]
  },
  {
   "cell_type": "code",
   "execution_count": 116,
   "id": "0d25a4c6",
   "metadata": {},
   "outputs": [],
   "source": [
    "tags = {}\n",
    "acc_raw, bvp_raw, eda_raw, hr_raw, temp_raw = {}, {}, {}, {}, {}\n",
    "for id in users:\n",
    "    directory = '\\\\raw_data\\\\User_data\\\\'+id+'\\\\'+id+'_e4\\\\'\n",
    "    \n",
    "    file_path = [f for f in listdir(directory) if isfile(join(directory, f))]\n",
    "    for file in file_path:\n",
    "        if file.endswith('ACC.csv'):\n",
    "            acc_raw[id] = pd.read_csv(directory+'ACC.csv', header=None)\n",
    "            \n",
    "        elif file.endswith('BVP.csv'):\n",
    "            bvp_raw[id] = pd.read_csv(directory+'BVP.csv', header=None)\n",
    "\n",
    "        elif file.endswith('HR.csv'):\n",
    "            hr_raw[id] = pd.read_csv(directory+'HR.csv', header=None)\n",
    "\n",
    "        elif file.endswith('EDA.csv'):\n",
    "            eda_raw[id] = pd.read_csv(directory+'EDA.csv', header=None)\n",
    "\n",
    "        elif file.endswith('TEMP.csv'):\n",
    "            temp_raw[id] = pd.read_csv(directory+'TEMP.csv', header=None)\n",
    "            \n",
    "        elif file.endswith('tags.csv'):\n",
    "            tags_info = pd.read_csv(directory+'tags.csv', header=None)\n",
    "            tags[id] = tags_info.iloc[:,0]        \n"
   ]
  },
  {
   "attachments": {},
   "cell_type": "markdown",
   "id": "759ab3e6",
   "metadata": {},
   "source": [
    "#**The .csv file from E4 has 3 important information:**\n",
    "***1)* first raw is the start time**\n",
    "***2)* second row is the sampling frequency**\n",
    "***3)* data starts from third row**"
   ]
  },
  {
   "cell_type": "code",
   "execution_count": 117,
   "id": "42e060c8",
   "metadata": {},
   "outputs": [],
   "source": [
    "acc, bvp, eda, hr, temp = {}, {}, {}, {}, {}\n",
    "for id in users:\n",
    "\n",
    "    acc[id] = {'start_time': acc_raw[id].iloc[0,0], 'sampling_freq': acc_raw[id].iloc[1,0], \n",
    "                'data': acc_raw[id].iloc[2:,:]}\n",
    "    acc[id]['data'].columns = ['x','y','z']\n",
    "\n",
    "    bvp[id] = {'start_time': bvp_raw[id].iloc[0,0], 'sampling_freq': bvp_raw[id].iloc[1,0], \n",
    "                'data': bvp_raw[id].iloc[2:,:]}\n",
    "    bvp[id]['data'].columns = ['bvp']\n",
    "\n",
    "    eda[id] = {'start_time': eda_raw[id].iloc[0,0], 'sampling_freq': eda_raw[id].iloc[1,0], \n",
    "                'data': eda_raw[id].iloc[2:,:]}\n",
    "    eda[id]['data'].columns = ['eda']\n",
    "\n",
    "    hr[id] = {'start_time': hr_raw[id].iloc[0,0], 'sampling_freq': hr_raw[id].iloc[1,0], \n",
    "               'data': hr_raw[id].iloc[2:,:]}\n",
    "    hr[id]['data'].columns = ['bpm']\n",
    "\n",
    "    temp[id] = {'start_time': temp_raw[id].iloc[0,0],  'sampling_freq': temp_raw[id].iloc[1,0], \n",
    "                 'data': temp_raw[id].iloc[2:,:]}\n",
    "    temp[id]['data'].columns = ['temp']"
   ]
  },
  {
   "attachments": {},
   "cell_type": "markdown",
   "id": "21c2c2f1",
   "metadata": {},
   "source": [
    "#**Taking data from ACC, BVP, EDA, HR, TEMP**"
   ]
  },
  {
   "cell_type": "code",
   "execution_count": 118,
   "id": "a3ebd2eb",
   "metadata": {},
   "outputs": [],
   "source": [
    "all_data = {'ACC':acc, 'BVP':bvp, 'EDA':eda, 'HR':hr, 'TEMP':temp}"
   ]
  },
  {
   "attachments": {},
   "cell_type": "markdown",
   "id": "8b422d8c",
   "metadata": {},
   "source": [
    "#**Add labels**"
   ]
  },
  {
   "cell_type": "code",
   "execution_count": null,
   "id": "3a54225c",
   "metadata": {},
   "outputs": [],
   "source": [
    "for id in users:\n",
    "    for i in all_data:\n",
    "        sample_rate = all_data[i][id]['sampling_freq']\n",
    "        start = all_data[i][id]['start_time']\n",
    "        stop = start + (len(all_data[i][id]['data'])/sample_rate)\n",
    "        time_series = np.linspace(start, stop, num=len(all_data[i][id]['data'])).tolist()\n",
    "        data = all_data[i][id]['data']\n",
    "\n",
    "        data['time_series'] = time_series\n",
    "\n",
    "        # if all users have same labels then remove if \n",
    "        if (id == 'p01' or id == 'p03'):\n",
    "            conditions = [\n",
    "            (data['time_series'] <= tags[id][0]),\n",
    "            (data['time_series'] >= tags[id][0]) & (data['time_series'] <= tags[id][1]),\n",
    "            (data['time_series'] >= tags[id][1]) & (data['time_series'] <= tags[id][2]),\n",
    "            (data['time_series'] >= tags[id][2]) & (data['time_series'] <= tags[id][3]),\n",
    "            (data['time_series'] >= tags[id][3]) & (data['time_series'] <= tags[id][4]),\n",
    "            (data['time_series'] >= tags[id][4]) & (data['time_series'] <= tags[id][5]),\n",
    "            (data['time_series'] >= tags[id][5]) & (data['time_series'] <= tags[id][6]),\n",
    "            (data['time_series'] >= tags[id][6]) \n",
    "            ] \n",
    "\n",
    "            values = [4, 3, 4, 0, 4, 1, 4, 2]\n",
    "\n",
    "        elif (id == 'p00' or id == 'p02' or id == 'p04'):\n",
    "            conditions = [\n",
    "            (data['time_series'] <= tags[id][0]),\n",
    "            (data['time_series'] >= tags[id][0]) & (data['time_series'] <= tags[id][1]),\n",
    "            (data['time_series'] >= tags[id][1]) & (data['time_series'] <= tags[id][2]),\n",
    "            (data['time_series'] >= tags[id][2]) & (data['time_series'] <= tags[id][3]),\n",
    "            (data['time_series'] >= tags[id][3]) & (data['time_series'] <= tags[id][4]),\n",
    "            (data['time_series'] >= tags[id][4]) & (data['time_series'] <= tags[id][5]),\n",
    "            (data['time_series'] >= tags[id][5]) & (data['time_series'] <= tags[id][6]),\n",
    "            (data['time_series'] >= tags[id][6]) \n",
    "            ] \n",
    "\n",
    "            values = [4, 3, 4, 2, 4, 1, 4, 0]\n",
    "\n",
    "\n",
    "        data['label'] = np.select(conditions, values)\n",
    "\n",
    "        # do not drop time series if it is required for further processing\n",
    "        data = data.drop(['time_series'], axis=1)\n",
    "\n",
    "        # save as csv\n",
    "        data.to_csv('\\\\labelled_data\\\\'+id+'\\\\'+str(i)+'.csv', index=False)"
   ]
  },
  {
   "cell_type": "code",
   "execution_count": null,
   "id": "6af80c4f",
   "metadata": {},
   "outputs": [],
   "source": []
  }
 ],
 "metadata": {
  "kernelspec": {
   "display_name": "Python 3 (ipykernel)",
   "language": "python",
   "name": "python3"
  },
  "language_info": {
   "codemirror_mode": {
    "name": "ipython",
    "version": 3
   },
   "file_extension": ".py",
   "mimetype": "text/x-python",
   "name": "python",
   "nbconvert_exporter": "python",
   "pygments_lexer": "ipython3",
   "version": "3.10.9"
  }
 },
 "nbformat": 4,
 "nbformat_minor": 5
}
